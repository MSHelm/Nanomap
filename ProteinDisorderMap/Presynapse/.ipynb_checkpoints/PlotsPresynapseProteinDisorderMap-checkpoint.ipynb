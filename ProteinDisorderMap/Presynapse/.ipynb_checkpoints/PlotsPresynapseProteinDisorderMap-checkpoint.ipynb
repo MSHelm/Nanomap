{
 "cells": [
  {
   "cell_type": "markdown",
   "metadata": {},
   "source": [
    "# Make plots for Protein Disorder Maps Analysis\n",
    "\n",
    "We want to create some 3D plots, to make it more visually appealing."
   ]
  },
  {
   "cell_type": "code",
   "execution_count": 60,
   "metadata": {},
   "outputs": [],
   "source": [
    "import numpy as np\n",
    "import matplotlib.pyplot as plt\n",
    "import matplotlib.cm as cm\n",
    "import matplotlib.colors as colors\n",
    "from mpl_toolkits.mplot3d import Axes3D\n",
    "from scipy.io import loadmat\n",
    "from pathlib import Path\n",
    "%matplotlib widget"
   ]
  },
  {
   "cell_type": "code",
   "execution_count": 70,
   "metadata": {},
   "outputs": [],
   "source": [
    "filename = 'presynapse_scores.mat' #['presynapse_scores.mat', 'presynapse_scores_normalized_copynum']\n",
    "data = loadmat(filename)\n",
    "[data.pop(key, None) for key in ['__header__', '__version__', '__globals__']] #remove Matlab specific variables\n",
    "\n",
    "if 'normalized_copynum' in filename:\n",
    "    data = {key : data[key] for key in ['DisorderLong', 'ExtendedBetaSheet(E)%', 'AlphaHelix(H)%']}\n",
    "else:\n",
    "    data = {key : data[key] for key in ['Length', 'DisorderLong', 'ZaggSC']}"
   ]
  },
  {
   "cell_type": "markdown",
   "metadata": {},
   "source": [
    "## Data preparation\n",
    "\n",
    "First define some helper functions. \n",
    "Convert the matrix into xyz coordinates (x and y are the indices of the voxel, z is the value of the voxel). <br>\n",
    "Mask the data to remove all entries with only the baseline values, to leave only the spine. <br>\n",
    "Finally plot the 3d scatter plot."
   ]
  },
  {
   "cell_type": "code",
   "execution_count": 75,
   "metadata": {},
   "outputs": [],
   "source": [
    "def matrix_to_xyzv(matrix):\n",
    "    values = matrix.flatten()\n",
    "    grid = np.indices(matrix.shape)\n",
    "    x = grid[0].flatten()\n",
    "    y = grid[1].flatten()\n",
    "    z = grid[2].flatten()\n",
    "    return x, y, z, values\n",
    "\n",
    "def mask_data(x, y, z, values):\n",
    "    # only keep values that are above 0 for this parameter. Minimum would also be an option, but this gives problems with ZaggSC.\n",
    "    mask = values > 0    \n",
    "    x, y, z, values = [i[mask] for i in [x, y, z, values]] \n",
    "    return x, y, z, values\n",
    "\n",
    "def scatter3d(x, y, z, values, cnorm):\n",
    "    cmap = plt.get_cmap('viridis')\n",
    "    scalarMap = cm.ScalarMappable(norm = cnorm, cmap = cmap)\n",
    "    cvalues = scalarMap.to_rgba(values)\n",
    "    cvalues[:,3] = values/values.max()\n",
    "    cvalues[:,3] = np.minimum(cvalues[:,3] + 0.15, 1)\n",
    "    \n",
    "    fig = plt.figure()\n",
    "    ax = fig.add_subplot(111, projection = '3d')\n",
    "    ax.scatter(x, y, z, c = cvalues, marker = 'o')    \n",
    "    fig.colorbar(scalarMap)\n",
    "    return fig, ax"
   ]
  },
  {
   "cell_type": "code",
   "execution_count": 76,
   "metadata": {},
   "outputs": [],
   "source": [
    "plt.close('all')\n",
    "plt.ioff()\n",
    "for key, value in data.items():\n",
    "    x, y, z, values = matrix_to_xyzv(data[key])\n",
    "    x, y, z, values = mask_data(x, y, z, values)\n",
    "#     values = np.log10(values)\n",
    "#     if key in {'DisorderLong', 'ExtendedBetaSheet', 'AlphaHelix', 'Length', 'DisorderLong'}:\n",
    "#         cnorm = colors.LogNorm(vmin = min(values), vmax = max(values))\n",
    "#     elif key in {'ZaggSC'}:\n",
    "#         cnorm = colors.Normalize(vmin = min(values), vmax = max(values))\n",
    "    cnorm = colors.Normalize(vmin = min(values), vmax = max(values))\n",
    "    fig, ax = scatter3d(x, y, z, values, cnorm)\n",
    "\n",
    "    plt.axis('off')\n",
    "    plt.title(key)\n",
    "    if 'Mushroom' in filename:\n",
    "        ax.view_init(azim = 80, elev = 15)\n",
    "    elif 'Flat' in filename:       \n",
    "        ax.view_init(azim = -80, elev = 20)\n",
    "    \n",
    "\n",
    "    plt.savefig(str(Path(filename).with_suffix('')) +'_' + key + '.pdf', bbox_inches = 'tight', transparent = True)\n",
    "    plt.close()\n",
    "\n",
    "plt.ion()"
   ]
  }
 ],
 "metadata": {
  "kernelspec": {
   "display_name": "Python 3",
   "language": "python",
   "name": "python3"
  },
  "language_info": {
   "codemirror_mode": {
    "name": "ipython",
    "version": 3
   },
   "file_extension": ".py",
   "mimetype": "text/x-python",
   "name": "python",
   "nbconvert_exporter": "python",
   "pygments_lexer": "ipython3",
   "version": "3.7.6"
  }
 },
 "nbformat": 4,
 "nbformat_minor": 4
}
