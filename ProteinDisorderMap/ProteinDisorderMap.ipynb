{
 "cells": [
  {
   "cell_type": "markdown",
   "metadata": {},
   "source": [
    "# Analysis of Disordered Protein Distribution, Isoelectric Point and Protein Density\n",
    "\n",
    "Idea: Use the now known 3D localization and abundance of the proteins and combine it with \n",
    "* Protein Density\n",
    "* Calculated scores for their aggregation proneness, or the amount of unstructured regions within them\n",
    "* Isoelectric point (acidic or basic regions)\n",
    "\n",
    "\n",
    "Hypothesis: There may or may not be locations in the synapse with special environments. These might be: \n",
    "* protein density should definitely show the PSD\n",
    "* Aggreagation has been shown to happen during ageing, there may or may not be special locations in the synapse with especially high/low protein disorder\n",
    "* Some proteins that are either acidic or basic might form a local environment as well\n"
   ]
  },
  {
   "cell_type": "code",
   "execution_count": 10,
   "metadata": {},
   "outputs": [],
   "source": [
    "import numpy as np\n",
    "import pandas as pd\n",
    "from scipy.io import loadmat, savemat\n",
    "from pathlib import Path\n",
    "import glob\n",
    "import os\n",
    "import matplotlib.pyplot as plt\n",
    "import re\n",
    "import pickle\n",
    "import copy\n",
    "%matplotlib inline\n"
   ]
  },
  {
   "cell_type": "markdown",
   "metadata": {},
   "source": [
    "## Reading in the necessary data tables\n",
    "\n",
    "I use my copy number file to select for my proteins of interest. Otherwise I load the table with protein disorder scores and structure composition from Hanna Wildhagen (table_structure_elements.xlsx) and the data from Cyriam et al."
   ]
  },
  {
   "cell_type": "code",
   "execution_count": 11,
   "metadata": {},
   "outputs": [],
   "source": [
    "data_folder = Path('D:/Jupyter/ProteinDisorderMap/')\n",
    "# protein list from copy number file\n",
    "protein_list = pd.read_excel(data_folder / \"THE COPY NUMBER FILE_SE0.xlsx\")\n",
    "protein_list = protein_list.drop([0])\n",
    "protein_list = protein_list.reset_index(drop = True)\n",
    "protein_list = protein_list[\"Gene\"]\n",
    "\n",
    "#table from Hanna Wildhagen with disorder scores and structure composition\n",
    "df = pd.read_excel(data_folder / \"table_structure_elements.xlsx\")\n",
    "df = pd.merge(protein_list, df, how = 'left', left_on = 'Gene', right_on = 'Gene_Names')\n",
    "df = df.drop(columns = ['Gene_Names', 'Protein_IDs', 'Maj_Protein_IDs', 'Protein_Names', 'Fasta_Headers', 'Isoelectric point EMBOSS', 'Isoelectric point DATASELECT'])\n",
    "\n",
    "#read in identifier dictionary to later assign the corresponding Uniprot Identifiers\n",
    "id_dict = pd.read_excel(data_folder / \"Protein identifier dictionary.xlsx\")\n",
    "id_dict = id_dict.drop(columns = ['Entry', 'Full protein names'])\n",
    "id_dict['Entry name'] = id_dict['Entry name'].str.lower()\n",
    "df = pd.merge(df, id_dict, how = 'left', left_on = 'Gene', right_on = 'Gene names').drop(columns = 'Gene names')\n",
    "\n",
    "#table from Cyriam et al.\n",
    "ciryam_table = pd.read_excel(data_folder / \"Ciryam_supp_table.xlsx\")\n",
    "ciryam_table = ciryam_table.rename(columns = ciryam_table.iloc[1])\n",
    "ciryam_table = ciryam_table[['Uniprot ID', 'Zagg', 'ZaggSC']]\n",
    "ciryam_table = ciryam_table.drop([0, 1])\n",
    "ciryam_table = ciryam_table.reset_index(drop = True)\n",
    "ciryam_table = ciryam_table.dropna()\n",
    "#select only proteins from human, we dont need C.elegans.\n",
    "ciryam_table = ciryam_table[ciryam_table['Uniprot ID'].str.contains('human')]\n",
    "df = pd.merge(df, ciryam_table, how = 'left', left_on = 'Entry name', right_on = 'Uniprot ID').drop(columns = 'Uniprot ID')\n",
    "\n",
    "#add column with isoelectric point difference to neutral, because this makes the data interpretation easier later\n",
    "df['IsoelectricPointAverageDifferenceToNeutral'] = df['IsoelectricPointAverage'] - 7\n",
    "#reorder the dataframe\n",
    "df = df[['Gene', 'MH identifier', 'protein name', 'Entry name', 'Length', 'Mass', 'DisorderLong', 'DisorderShort', 'IsoelectricPointAverage', 'IsoelectricPointAverageDifferenceToNeutral', 'Coil', 'ExtendedBetaSheet', 'AlphaHelix', 'StructuredRatio', 'Zagg', 'ZaggSC']]"
   ]
  },
  {
   "cell_type": "markdown",
   "metadata": {},
   "source": [
    "Drop TOM20 for further analysis, because it is the only mitochondrial protein, not present in stubby and is very sparsely scattered on the mito membrane, making the plots not nice."
   ]
  },
  {
   "cell_type": "code",
   "execution_count": 12,
   "metadata": {},
   "outputs": [],
   "source": [
    "df = df.drop(df.index[df['Gene'] == 'Tomm20'])\n",
    "df = df.reset_index(drop = True)"
   ]
  },
  {
   "cell_type": "markdown",
   "metadata": {},
   "source": [
    "## Set up Analysis\n",
    "\n",
    "We need the location of the lego models. The small regex is for finding the right protein name from the file to then use the correct scores from our dataframe.\n",
    "The add_score function is a small wrapper to deal with situations where no score is present in the dataframe."
   ]
  },
  {
   "cell_type": "code",
   "execution_count": 13,
   "metadata": {},
   "outputs": [],
   "source": [
    "lego_path = data_folder / 'LegoModels'\n",
    "spine_classes = ['Mushroom', 'Flat']\n",
    "protein_search = re.compile('([^_]*)')\n",
    "\n",
    "def add_score(score_map, copy_map, score):\n",
    "    if isinstance(score, (int, float)) and ~np.isnan(score):\n",
    "        score_map += copy_map * score\n",
    "    return score_map"
   ]
  },
  {
   "cell_type": "markdown",
   "metadata": {},
   "source": [
    "## Analysis\n",
    "\n",
    "Loop over the spine classes and proteins (the file loop) and add the respective score to the score map."
   ]
  },
  {
   "cell_type": "code",
   "execution_count": 25,
   "metadata": {},
   "outputs": [],
   "source": [
    "for spine_class in spine_classes:\n",
    "    class_path = lego_path / spine_class\n",
    "    #initialize score maps\n",
    "    if spine_class == 'Mushroom':\n",
    "        score_maps = {score: np.zeros((41,41,9)) for score in ['Length', 'Mass', 'DisorderLong', 'DisorderShort', 'IsoelectricPointAverage', 'IsoelectricPointAverageDifferenceToNeutral', 'Coil', 'ExtendedBetaSheet', 'AlphaHelix', 'StructuredRatio', 'Zagg', 'ZaggSC']}\n",
    "        copy_map_total = np.zeros((41,41,9))\n",
    "    else:\n",
    "        score_maps = {score: np.zeros((51,51,7)) for score in ['Length', 'Mass', 'DisorderLong', 'DisorderShort', 'IsoelectricPointAverage', 'IsoelectricPointAverageDifferenceToNeutral', 'Coil', 'ExtendedBetaSheet', 'AlphaHelix', 'StructuredRatio', 'Zagg', 'ZaggSC']}\n",
    "        copy_map_total = np.zeros((51,51,7))\n",
    "    \n",
    "    #get list of protein files, iterate over it\n",
    "    files = []\n",
    "    files = glob.glob(str(class_path / '*.mat'))\n",
    "\n",
    "    for file in files:\n",
    "        copy_map = loadmat(Path(file))\n",
    "        copy_map = copy_map['matrixview']\n",
    "        copy_map_total += copy_map\n",
    "        protein = protein_search.match(os.path.basename(file))\n",
    "        scores = df.loc[df['protein name'] == protein.group(), :]\n",
    "        scores = scores[['Length', 'Mass', 'DisorderLong', 'DisorderShort', 'IsoelectricPointAverage', 'IsoelectricPointAverageDifferenceToNeutral', 'Coil', 'ExtendedBetaSheet', 'AlphaHelix', 'StructuredRatio', 'Zagg', 'ZaggSC']]\n",
    "        score_maps.update((score, add_score(score_map, copy_map, scores.iloc[0][score])) for score, score_map in score_maps.items())\n",
    "    \n",
    "    score_maps_orig = copy.deepcopy(score_maps) #Save a copy first for normalizations later on.\n",
    "    \n",
    "    score_maps['CopyMap'] = copy_map_total #add the map with total copy numbers to the results for the simple analysis\n",
    "    \n",
    "    #save the data\n",
    "    with open(data_folder / (spine_class + '_scores.pkl'), 'wb') as outfile:\n",
    "        pickle.dump(score_maps, outfile)\n",
    "    savemat(data_folder / (spine_class + '_scores.mat'), score_maps)\n",
    "    \n",
    "    #Normalize data for protein concentration per voxel, to see whether the increase in aggregation prone proteins is independent of protein concentration.\n",
    "    score_maps = copy.deepcopy(score_maps_orig)\n",
    "    length_map = score_maps['Length']\n",
    "    length_map[length_map == 0] = 1  #to prevent division by 0\n",
    "    score_maps.update((score, score_map/length_map) for score, score_map in score_maps.items())\n",
    "    with open(data_folder / (spine_class + '_scores_normalized_aa.pkl'), 'wb') as outfile:\n",
    "        pickle.dump(score_maps, outfile)\n",
    "    savemat(data_folder / (spine_class + '_scores_normalized_aa.mat'), score_maps)\n",
    "    \n",
    "    #Normalize data for protein copy number per voxel.\n",
    "    score_maps = copy.deepcopy(score_maps_orig)\n",
    "    copy_map_total[copy_map_total == 0] = 1 #to prevent division by 0.\n",
    "    score_maps.update((score, score_map/copy_map_total) for score, score_map in score_maps.items())\n",
    "    with open(data_folder / (spine_class + '_scores_normalized_copynum.pkl'), 'wb') as outfile:\n",
    "        pickle.dump(score_maps, outfile)\n",
    "    savemat(data_folder / (spine_class + '_scores_normalized_copynum.mat'), score_maps)"
   ]
  },
  {
   "cell_type": "markdown",
   "metadata": {},
   "source": [
    "## Make heatmap plots"
   ]
  },
  {
   "cell_type": "code",
   "execution_count": 26,
   "metadata": {},
   "outputs": [
    {
     "name": "stderr",
     "output_type": "stream",
     "text": [
      "D:\\Programme\\anaconda3\\lib\\site-packages\\ipykernel_launcher.py:27: UserWarning: Attempting to set identical bottom == top == 1.0 results in singular transformations; automatically expanding.\n",
      "D:\\Programme\\anaconda3\\lib\\site-packages\\ipykernel_launcher.py:27: UserWarning: Attempting to set identical bottom == top == 1.0 results in singular transformations; automatically expanding.\n"
     ]
    }
   ],
   "source": [
    "from matplotlib.backends.backend_pdf import PdfPages\n",
    "from mpl_toolkits.axes_grid1 import ImageGrid\n",
    "plt.ioff()\n",
    "\n",
    "files = glob.glob(str(data_folder / '*.pkl'))\n",
    "\n",
    "for file in files:\n",
    "    with open(file, 'rb') as infile:\n",
    "        score_maps = pickle.load(infile)\n",
    "    \n",
    "    with PdfPages(str(Path(file).with_suffix('')) + '.pdf') as pdf:\n",
    "        for score, score_map in score_maps.items():\n",
    "            fig = plt.figure()\n",
    "            plt.suptitle(score)\n",
    "            grid = ImageGrid(fig, 111, nrows_ncols = (3,3), share_all = True, cbar_location = 'right', cbar_mode = 'single')\n",
    "\n",
    "            #get max and min values to scale all images the same later on\n",
    "            vmin = np.min(score_map)\n",
    "            vmax = np.max(score_map)\n",
    "\n",
    "            for i, ax in enumerate(grid):\n",
    "                try:\n",
    "                    im = ax.imshow(score_map[:,:,i], cmap = 'inferno', vmin = vmin, vmax = vmax)\n",
    "                except:\n",
    "                    break\n",
    "            \n",
    "            ax.cax.colorbar(im)\n",
    "            ax.cax.toggle_label(True)            \n",
    "            pdf.savefig()\n",
    "            plt.close()\n",
    "        \n",
    "plt.ion()"
   ]
  },
  {
   "cell_type": "markdown",
   "metadata": {},
   "source": [
    "## Create plots of lego models for all proteins\n",
    "\n",
    "To make later analysis easier, which proteins might cause the observed effects."
   ]
  },
  {
   "cell_type": "code",
   "execution_count": 24,
   "metadata": {},
   "outputs": [
    {
     "name": "stderr",
     "output_type": "stream",
     "text": [
      "D:\\Programme\\anaconda3\\lib\\site-packages\\ipykernel_launcher.py:23: UserWarning: Attempting to set identical bottom == top == 0 results in singular transformations; automatically expanding.\n",
      "D:\\Programme\\anaconda3\\lib\\site-packages\\ipykernel_launcher.py:23: UserWarning: Attempting to set identical bottom == top == 0 results in singular transformations; automatically expanding.\n"
     ]
    }
   ],
   "source": [
    "plt.ioff()\n",
    "for spine_class in spine_classes:\n",
    "    class_path = lego_path / spine_class\n",
    "    \n",
    "        #get list of protein files, iterate over it\n",
    "    files = []\n",
    "    files = glob.glob(str(class_path / '*.mat'))\n",
    "    with PdfPages(spine_class + '_LegoModels.pdf') as pdf:\n",
    "        for file in files:\n",
    "            copy_map = loadmat(Path(file))\n",
    "            copy_map = copy_map['matrixview']\n",
    "            fig = plt.figure()\n",
    "            plt.suptitle(Path(file).stem)\n",
    "            grid = ImageGrid(fig, 111, nrows_ncols = (3,3), share_all = True, cbar_location = 'right', cbar_mode = 'single')\n",
    "            vmin = np.min(copy_map)\n",
    "            vmax = np.max(copy_map)\n",
    "            for i, ax in enumerate(grid):\n",
    "                try:\n",
    "                    im = ax.imshow(copy_map[:,:,i], cmap = 'inferno', vmin = vmin, vmax = vmax)\n",
    "                except:\n",
    "                    break\n",
    "\n",
    "            ax.cax.colorbar(im)\n",
    "            ax.cax.toggle_label(True)\n",
    "            pdf.savefig()\n",
    "            plt.close()\n",
    "            \n",
    "plt.ion()"
   ]
  },
  {
   "cell_type": "markdown",
   "metadata": {},
   "source": [
    "## Make plots of the score distributions in my dataset\n",
    "\n",
    "To get a better feeling whether there might be groups and which proteins have especially high/low scores"
   ]
  },
  {
   "cell_type": "code",
   "execution_count": 56,
   "metadata": {},
   "outputs": [
    {
     "name": "stderr",
     "output_type": "stream",
     "text": [
      "D:\\Programme\\anaconda3\\lib\\site-packages\\ipykernel_launcher.py:3: SettingWithCopyWarning: \n",
      "A value is trying to be set on a copy of a slice from a DataFrame.\n",
      "Try using .loc[row_indexer,col_indexer] = value instead\n",
      "\n",
      "See the caveats in the documentation: https://pandas.pydata.org/pandas-docs/stable/user_guide/indexing.html#returning-a-view-versus-a-copy\n",
      "  This is separate from the ipykernel package so we can avoid doing imports until\n",
      "D:\\Programme\\anaconda3\\lib\\site-packages\\ipykernel_launcher.py:4: SettingWithCopyWarning: \n",
      "A value is trying to be set on a copy of a slice from a DataFrame.\n",
      "Try using .loc[row_indexer,col_indexer] = value instead\n",
      "\n",
      "See the caveats in the documentation: https://pandas.pydata.org/pandas-docs/stable/user_guide/indexing.html#returning-a-view-versus-a-copy\n",
      "  after removing the cwd from sys.path.\n"
     ]
    }
   ],
   "source": [
    "df_onlyscores = df[['Length', 'Mass', 'DisorderLong', 'DisorderShort', 'IsoelectricPointAverage', 'IsoelectricPointAverageDifferenceToNeutral', 'Coil', 'ExtendedBetaSheet', 'AlphaHelix', 'StructuredRatio', 'Zagg', 'ZaggSC']]\n",
    "#Zagg and ZaggSC are not float columns, maybe because of some weird excel formatting or whatever. I need to transform them into float.\n",
    "df_onlyscores['Zagg'] = pd.to_numeric(df_onlyscores['Zagg'], errors = 'coerce')\n",
    "df_onlyscores['ZaggSC'] = pd.to_numeric(df_onlyscores['ZaggSC'], errors = 'coerce')\n",
    "\n",
    "plt.ioff()\n",
    "with PdfPages('score distributions.pdf') as pdf:\n",
    "    for col in df_onlyscores.columns:\n",
    "        fig = plt.hist(df_onlyscores[col])\n",
    "        plt.suptitle(col)\n",
    "        pdf.savefig()\n",
    "        plt.close()\n",
    "        \n",
    "plt.ion()"
   ]
  },
  {
   "cell_type": "code",
   "execution_count": null,
   "metadata": {},
   "outputs": [],
   "source": []
  }
 ],
 "metadata": {
  "kernelspec": {
   "display_name": "Python 3",
   "language": "python",
   "name": "python3"
  },
  "language_info": {
   "codemirror_mode": {
    "name": "ipython",
    "version": 3
   },
   "file_extension": ".py",
   "mimetype": "text/x-python",
   "name": "python",
   "nbconvert_exporter": "python",
   "pygments_lexer": "ipython3",
   "version": "3.7.6"
  }
 },
 "nbformat": 4,
 "nbformat_minor": 4
}
